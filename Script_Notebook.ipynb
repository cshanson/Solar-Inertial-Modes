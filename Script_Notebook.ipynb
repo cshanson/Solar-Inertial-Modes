{
 "cells": [
  {
   "cell_type": "markdown",
   "id": "ef85b2b8",
   "metadata": {
    "toc": true
   },
   "source": [
    "<h1>Table of Contents<span class=\"tocSkip\"></span></h1>\n",
    "<div class=\"toc\"><ul class=\"toc-item\"><li><span><a href=\"#Extract-from-the-NetDRMS-Data-Base\" data-toc-modified-id=\"Extract-from-the-NetDRMS-Data-Base-1\"><span class=\"toc-item-num\">1&nbsp;&nbsp;</span>Extract from the NetDRMS Data Base</a></span></li><li><span><a href=\"#Read-data-from-fit-files-ready-for-processing\" data-toc-modified-id=\"Read-data-from-fit-files-ready-for-processing-2\"><span class=\"toc-item-num\">2&nbsp;&nbsp;</span>Read data from fit files ready for processing</a></span></li><li><span><a href=\"#Build-the-data-cubes-(flow-maps)\" data-toc-modified-id=\"Build-the-data-cubes-(flow-maps)-3\"><span class=\"toc-item-num\">3&nbsp;&nbsp;</span>Build the data cubes (flow maps)</a></span></li><li><span><a href=\"#Compute-the-power-spectrum\" data-toc-modified-id=\"Compute-the-power-spectrum-4\"><span class=\"toc-item-num\">4&nbsp;&nbsp;</span>Compute the power spectrum</a></span></li><li><span><a href=\"#Fit-the-power-spectrum-using-MCMC\" data-toc-modified-id=\"Fit-the-power-spectrum-using-MCMC-5\"><span class=\"toc-item-num\">5&nbsp;&nbsp;</span>Fit the power spectrum using MCMC</a></span></li></ul></div>"
   ]
  },
  {
   "cell_type": "markdown",
   "id": "f47ce0a1",
   "metadata": {},
   "source": [
    "This notebook will run all of the scripts to reproduce the results of the Hanson et al. 2020-2025 Papers"
   ]
  },
  {
   "cell_type": "code",
   "execution_count": null,
   "id": "82dd44ba",
   "metadata": {},
   "outputs": [],
   "source": [
    "%matplotlib inline # Enable notebook plots\n",
    "\n",
    "# Execute files and store outputs in locals\n",
    "def execfile(filename, globals=globals(), locals=locals()):\n",
    "        exec(compile(open(filename, \"rb\").read(), filename, 'exec'), globals, locals)\n"
   ]
  },
  {
   "cell_type": "markdown",
   "id": "d70d1774",
   "metadata": {
    "heading_collapsed": true
   },
   "source": [
    "## Extract from the NetDRMS Data Base"
   ]
  },
  {
   "cell_type": "markdown",
   "id": "8d92cfab",
   "metadata": {
    "hidden": true
   },
   "source": [
    "Note: comment this code if you are not at a NetDRMS Database Site\n"
   ]
  },
  {
   "cell_type": "code",
   "execution_count": null,
   "id": "37a354eb",
   "metadata": {
    "hidden": true
   },
   "outputs": [],
   "source": [
    "#execfile('0_ExtractFromNetDRMS.py')"
   ]
  },
  {
   "cell_type": "markdown",
   "id": "2d8de922",
   "metadata": {
    "heading_collapsed": true
   },
   "source": [
    "## Read data from fit files ready for processing"
   ]
  },
  {
   "cell_type": "code",
   "execution_count": null,
   "id": "08c37b46",
   "metadata": {
    "hidden": true
   },
   "outputs": [],
   "source": [
    "execfile('1_Prepare_HMI_5deg.py')"
   ]
  },
  {
   "cell_type": "markdown",
   "id": "7ed666ae",
   "metadata": {
    "heading_collapsed": true
   },
   "source": [
    "## Build the data cubes (flow maps)"
   ]
  },
  {
   "cell_type": "code",
   "execution_count": null,
   "id": "083d9731",
   "metadata": {
    "hidden": true
   },
   "outputs": [],
   "source": [
    "execfile('2_BuildFlowMaps_HMI_RDA_5deg.py')"
   ]
  },
  {
   "cell_type": "markdown",
   "id": "36d2d535",
   "metadata": {
    "heading_collapsed": true
   },
   "source": [
    "## Compute the power spectrum"
   ]
  },
  {
   "cell_type": "code",
   "execution_count": null,
   "id": "8efca148",
   "metadata": {
    "hidden": true
   },
   "outputs": [],
   "source": [
    "execfile('3_PowerSpect_HMI_RDA_5deg.py')"
   ]
  },
  {
   "cell_type": "markdown",
   "id": "06dc54be",
   "metadata": {
    "heading_collapsed": true
   },
   "source": [
    "## Fit the power spectrum using MCMC"
   ]
  },
  {
   "cell_type": "code",
   "execution_count": null,
   "id": "2b6c5733",
   "metadata": {
    "hidden": true
   },
   "outputs": [],
   "source": [
    "execfile('4_SpectrumFitting_MCMC.py')"
   ]
  }
 ],
 "metadata": {
  "kernelspec": {
   "display_name": "Python 3 (ipykernel)",
   "language": "python",
   "name": "python3"
  },
  "language_info": {
   "codemirror_mode": {
    "name": "ipython",
    "version": 3
   },
   "file_extension": ".py",
   "mimetype": "text/x-python",
   "name": "python",
   "nbconvert_exporter": "python",
   "pygments_lexer": "ipython3",
   "version": "3.9.15"
  },
  "toc": {
   "base_numbering": 1,
   "nav_menu": {},
   "number_sections": true,
   "sideBar": true,
   "skip_h1_title": false,
   "title_cell": "Table of Contents",
   "title_sidebar": "Contents",
   "toc_cell": true,
   "toc_position": {},
   "toc_section_display": true,
   "toc_window_display": true
  }
 },
 "nbformat": 4,
 "nbformat_minor": 5
}
